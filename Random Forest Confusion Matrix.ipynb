{
 "cells": [
  {
   "cell_type": "code",
   "execution_count": 49,
   "metadata": {},
   "outputs": [
    {
     "name": "stdout",
     "output_type": "stream",
     "text": [
      "\n",
      "Training images:  737\n",
      "Test images:  738\n",
      "\n",
      "Confusion matrix:\n",
      "[[160   0   0   0   0]\n",
      " [  0 187   5   0   0]\n",
      " [  0   0 181   0   0]\n",
      " [  0   0   2 124   0]\n",
      " [  0   0   0   2  76]]\n",
      "\n",
      "Score:  98.7788331071913 %\n",
      "\n"
     ]
    },
    {
     "data": {
      "image/png": "[encoded data removed]",
      "text/plain": [
       "<matplotlib.figure.Figure at 0x7f3405833a10>"
      ]
     },
     "metadata": {},
     "output_type": "display_data"
    },
    {
     "name": "stdout",
     "output_type": "stream",
     "text": [
      "Random Tree Classifier:\n",
      "\n",
      "Score:  98.7788331071913 %\n"
     ]
    },
    {
     "data": {
      "text/plain": [
       "<matplotlib.figure.Figure at 0x7f340e4013d0>"
      ]
     },
     "metadata": {},
     "output_type": "display_data"
    },
    {
     "data": {
      "image/png": "[encoded data removed]",
      "text/plain": [
       "<matplotlib.figure.Figure at 0x7f340e401310>"
      ]
     },
     "metadata": {},
     "output_type": "display_data"
    },
    {
     "name": "stdout",
     "output_type": "stream",
     "text": [
      "[3]\n"
     ]
    }
   ],
   "source": [
    "import cv2\n",
    "import numpy as np\n",
    "import matplotlib.pyplot as plt\n",
    "import random\n",
    "from sklearn import ensemble\n",
    "from sklearn.metrics import confusion_matrix\n",
    "from os import listdir\n",
    "from glob import glob\n",
    "%matplotlib inline\n",
    "\"\"\"\n",
    "\n",
    "FOLDER STRUCTURE\n",
    "\n",
    "dataset\n",
    "    |\n",
    "    |----------1_finger\n",
    "    |        .   |-------hand_0.png\n",
    "    |        .   |         .\n",
    "    |        .   |         .\n",
    "    |        .   |         .\n",
    "    |        .   |-------hand_n.png\n",
    "    |        .\n",
    "    |----------5_fingers\n",
    "    \n",
    "\"\"\"\n",
    "\n",
    "path = \"dataset_28\"\n",
    "resize = True\n",
    "percentage = 100\n",
    "numb_label = []\n",
    "\n",
    "classes = listdir(path)\n",
    "\n",
    "image_list = []\n",
    "labels = []\n",
    "for classe in classes:\n",
    "    for filename in glob(path+'/'+classe+'/*.png'):\n",
    "        \n",
    "        image_list.append(cv2.cvtColor(cv2.imread(filename), cv2.COLOR_BGR2GRAY))\n",
    "                \n",
    "        label=np.zeros(len(classes))\n",
    "        label[classes.index(classe)]=1\n",
    "        labels.append(label)\n",
    "        \n",
    "indice = np.random.permutation(len(image_list))[:int(len(image_list)*percentage/100)]\n",
    "\n",
    "images = np.array([image_list[x] for x in indice])\n",
    "labels = np.array([labels[x] for x in indice])\n",
    "classes = np.array(classes)\n",
    "\n",
    "#creamos data, imagenes vectorizadas\n",
    "nsamples, nx, ny = images.shape\n",
    "data = images.reshape((nsamples,nx*ny))\n",
    "\n",
    "#numb_label = etiquetas numericas\n",
    "for i in range (0,len(image_list)):\n",
    "    numb_label.append(labels[i].argmax())\n",
    "numb_label=np.array(numb_label)\n",
    "\n",
    "#ordenamos las etiquetas\n",
    "for i in range (0,len(image_list)):\n",
    "    if numb_label[i]==0: numb_label[i]=5\n",
    "    elif numb_label[i]==1: numb_label[i]=1\n",
    "    elif numb_label[i]==2: numb_label[i]=4\n",
    "    elif numb_label[i]==3: numb_label[i]=3\n",
    "    elif numb_label[i]==4: numb_label[i]=2\n",
    "    \n",
    "\n",
    "#Using the Random Forest Classifier\n",
    "clf = ensemble.RandomForestClassifier()\n",
    "\n",
    "ratio = len(image_list)*0.5\n",
    "ratio = int(ratio)\n",
    "print \"\\nTraining images: \",ratio\n",
    "print \"Test images: \",len(image_list)-ratio\n",
    "\n",
    "X_train,y_train = data[:ratio], numb_label[:ratio]\n",
    "X_test,y_test = data[ratio+1:], numb_label[ratio+1:]\n",
    "\n",
    "#entrenamos el clasificador\n",
    "y_pred = clf.fit(X_train,y_train).predict(X_test)\n",
    "\n",
    "cm = confusion_matrix(y_test, y_pred)\n",
    "\n",
    "print \"\\nConfusion matrix:\"\n",
    "print cm\n",
    "\n",
    "print \"\\nScore: \",clf.score(X_test,y_test)*100,\"%\\n\"\n",
    "\n",
    "plt.matshow(cm)\n",
    "plt.title('Confusion matrix')\n",
    "plt.colorbar()\n",
    "plt.ylabel('True label')\n",
    "plt.xlabel('Predicted label')\n",
    "plt.show()\n",
    "\n",
    "#Attempt to predict test data\n",
    "print 'Random Tree Classifier:\\n' \n",
    "print 'Score: ',clf.score(X_test,y_test)*100,'%'\n",
    "\n",
    "#printing example\n",
    "i=ratio + 1 \n",
    "\n",
    "plt.gray() \n",
    "plt.matshow(images[i]) \n",
    "plt.show() \n",
    "print clf.predict(data[[i]])\n",
    "\n",
    "cv2.waitKey(0)\n",
    "cv2.destroyAllWindows()"
   ]
  }
 ],
 "metadata": {
  "kernelspec": {
   "display_name": "Python 2",
   "language": "python",
   "name": "python2"
  },
  "language_info": {
   "codemirror_mode": {
    "name": "ipython",
    "version": 2
   },
   "file_extension": ".py",
   "mimetype": "text/x-python",
   "name": "python",
   "nbconvert_exporter": "python",
   "pygments_lexer": "ipython2",
   "version": "2.7.14"
  }
 },
 "nbformat": 4,
 "nbformat_minor": 2
}
