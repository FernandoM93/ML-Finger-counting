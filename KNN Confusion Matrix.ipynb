{
 "cells": [
  {
   "cell_type": "code",
   "execution_count": 3,
   "metadata": {},
   "outputs": [
    {
     "name": "stdout",
     "output_type": "stream",
     "text": [
      "Working with 152 images\n",
      "\n",
      "\n",
      "Training images:  76\n",
      "Test images:  76\n",
      "Confusion matrix:\n",
      "[[15  5]\n",
      " [13 42]]\n",
      "\n",
      "Score:  76.0 %\n",
      "\n"
     ]
    },
    {
     "data": {
      "image/png": "[encoded data removed]",
      "text/plain": [
       "<matplotlib.figure.Figure at 0x7f555c1bb550>"
      ]
     },
     "metadata": {},
     "output_type": "display_data"
    },
    {
     "name": "stdout",
     "output_type": "stream",
     "text": [
      "Example\n",
      "Prediction: [2]\n",
      "Real class:  2\n"
     ]
    },
    {
     "data": {
      "image/png": "[encoded data removed]",
      "text/plain": [
       "<matplotlib.figure.Figure at 0x7f552e910810>"
      ]
     },
     "metadata": {},
     "output_type": "display_data"
    },
    {
     "name": "stdout",
     "output_type": "stream",
     "text": [
      "Execution time: 0.214818954468\n"
     ]
    }
   ],
   "source": [
    "import numpy as np\n",
    "import matplotlib.pyplot as plt\n",
    "from sklearn import neighbors\n",
    "from time import time\n",
    "from sklearn.metrics import confusion_matrix\n",
    "from os import listdir\n",
    "from glob import glob\n",
    "import cv2\n",
    "\n",
    "\"\"\"\n",
    "\n",
    "FOLDER STRUCTURE\n",
    "\n",
    "dataset\n",
    "    |\n",
    "    |----------1_finger\n",
    "    |        .   |-------hand_0.png\n",
    "    |        .   |         .\n",
    "    |        .   |         .\n",
    "    |        .   |         .\n",
    "    |        .   |-------hand_n.png\n",
    "    |        .\n",
    "    |----------5_fingers\n",
    "    \n",
    "\"\"\"\n",
    "tiempo_inicial = time() \n",
    "\n",
    "path = \"dataset_28\"\n",
    "resize = True\n",
    "percentage = 100\n",
    "numb_label = []\n",
    "\n",
    "classes = listdir(path)\n",
    "\n",
    "image_list = []\n",
    "labels = []\n",
    "for classe in classes:\n",
    "    for filename in glob(path+'/'+classe+'/*.png'):\n",
    "        \n",
    "        image_list.append(cv2.cvtColor(cv2.imread(filename), cv2.COLOR_BGR2GRAY))\n",
    "                \n",
    "        label = np.zeros(len(classes))\n",
    "        label[classes.index(classe)]=1\n",
    "        labels.append(label)\n",
    "        \n",
    "indice = np.random.permutation(len(image_list))[:int(len(image_list)*percentage/100)]\n",
    "\n",
    "images = np.array([image_list[x] for x in indice])\n",
    "labels = np.array([labels[x] for x in indice])\n",
    "classes = np.array(classes)\n",
    "\n",
    "#creamos data, imagenes vectorizadas\n",
    "nsamples, nx, ny = images.shape\n",
    "data = images.reshape((nsamples,nx*ny))\n",
    "\n",
    "#numb_label = etiquetas numericas\n",
    "for i in range (0,len(image_list)):\n",
    "    numb_label.append(labels[i].argmax())\n",
    "numb_label=np.array(numb_label)\n",
    "\n",
    "#ordenamos las etiquetas\n",
    "for i in range (0,len(image_list)):\n",
    "    if numb_label[i]==0: numb_label[i]=5\n",
    "    elif numb_label[i]==1: numb_label[i]=1\n",
    "    elif numb_label[i]==2: numb_label[i]=4\n",
    "    elif numb_label[i]==3: numb_label[i]=3\n",
    "    elif numb_label[i]==4: numb_label[i]=2\n",
    "    \n",
    "\n",
    "print \"Working with {} images\\n\".format(len(image_list))\n",
    "\n",
    "#seleccionamos los parametros del clasificador\n",
    "clf = neighbors.KNeighborsClassifier()\n",
    "\n",
    "ratio = len(image_list)*0.5\n",
    "ratio = int(ratio)\n",
    "print \"\\nTraining images: \",ratio\n",
    "print \"Test images: \",len(image_list)-ratio\n",
    "\n",
    "#creammos las variables de entrenamiento con todos los archivos menos el ultimo\n",
    "X_train,y_train = data[:ratio], numb_label[:ratio]\n",
    "X_test,y_test = data[ratio+1:], numb_label[ratio+1:]\n",
    "\n",
    "#entrenamos el clasificador\n",
    "y_pred = clf.fit(X_train,y_train).predict(X_test)\n",
    "\n",
    "cm = confusion_matrix(y_test, y_pred)\n",
    "\n",
    "print \"Confusion matrix:\"\n",
    "print cm\n",
    "\n",
    "print \"\\nScore: \",clf.score(X_test,y_test)*100,\"%\\n\"\n",
    "\n",
    "plt.matshow(cm)\n",
    "plt.title('Confusion matrix')\n",
    "plt.colorbar()\n",
    "plt.ylabel('True label')\n",
    "plt.xlabel('Predicted label')\n",
    "plt.show()\n",
    "\n",
    "test=ratio+1\n",
    "\n",
    "#hacemos la prediccion sobre el ultimo valor\n",
    "print 'Example'\n",
    "print 'Prediction:',clf.predict(data[[test]])\n",
    "print 'Real class: ',numb_label[test]\n",
    "\n",
    "#mostramos por pantalla\n",
    "plt.imshow(images[test],cmap=plt.cm.gray_r, interpolation=\"nearest\")\n",
    "plt.show()\n",
    "\n",
    "tiempo_final = time() \n",
    "tiempo_ejecucion = tiempo_final - tiempo_inicial\n",
    " \n",
    "print 'Execution time:',tiempo_ejecucion\n",
    "cv2.waitKey(0)\n",
    "cv2.destroyAllWindows()"
   ]
  }
 ],
 "metadata": {
  "kernelspec": {
   "display_name": "Python 2",
   "language": "python",
   "name": "python2"
  },
  "language_info": {
   "codemirror_mode": {
    "name": "ipython",
    "version": 2
   },
   "file_extension": ".py",
   "mimetype": "text/x-python",
   "name": "python",
   "nbconvert_exporter": "python",
   "pygments_lexer": "ipython2",
   "version": "2.7.14"
  }
 },
 "nbformat": 4,
 "nbformat_minor": 2
}
